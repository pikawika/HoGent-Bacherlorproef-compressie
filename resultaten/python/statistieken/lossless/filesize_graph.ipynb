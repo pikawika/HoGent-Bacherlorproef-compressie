{
 "cells": [
  {
   "cell_type": "code",
   "execution_count": 48,
   "metadata": {},
   "outputs": [],
   "source": [
    "import pandas as pd\n",
    "import numpy as np\n",
    "merged=pd.read_csv(\"/Users/lennertbontinck/Documents/github/bachelorproef-compressie/resultaten/csv/merged.csv\")\n",
    "merged=merged.loc[merged.extension.isin(['png', 'jpf', 'webp'])]\n",
    "merged=merged.loc[merged.filename.isin([14,15])]"
   ]
  },
  {
   "cell_type": "code",
   "execution_count": 80,
   "metadata": {},
   "outputs": [
    {
     "data": {
      "text/plain": [
       "pandas.core.frame.DataFrame"
      ]
     },
     "execution_count": 80,
     "metadata": {},
     "output_type": "execute_result"
    }
   ],
   "source": [
    "filtered = merged.groupby(['filename', 'extension'], sort=False)['filesize'].mean().to_frame()\n",
    "filtered = filtered.rename(columns = {'sharpness':'mean_sharpness'})\n",
    "filtered.head(10)"
   ]
  },
  {
   "cell_type": "code",
   "execution_count": 84,
   "metadata": {},
   "outputs": [
    {
     "data": {
      "text/html": [
       "<div>\n",
       "<style scoped>\n",
       "    .dataframe tbody tr th:only-of-type {\n",
       "        vertical-align: middle;\n",
       "    }\n",
       "\n",
       "    .dataframe tbody tr th {\n",
       "        vertical-align: top;\n",
       "    }\n",
       "\n",
       "    .dataframe thead th {\n",
       "        text-align: right;\n",
       "    }\n",
       "</style>\n",
       "<table border=\"1\" class=\"dataframe\">\n",
       "  <thead>\n",
       "    <tr style=\"text-align: right;\">\n",
       "      <th></th>\n",
       "      <th>filename</th>\n",
       "      <th>filesize PNG</th>\n",
       "      <th>filesize JPEG2000</th>\n",
       "      <th>filesize WebP</th>\n",
       "    </tr>\n",
       "  </thead>\n",
       "  <tbody>\n",
       "    <tr>\n",
       "      <th>14</th>\n",
       "      <td>14</td>\n",
       "      <td>2140382</td>\n",
       "      <td>1595469</td>\n",
       "      <td>1490900</td>\n",
       "    </tr>\n",
       "    <tr>\n",
       "      <th>15</th>\n",
       "      <td>15</td>\n",
       "      <td>1945990</td>\n",
       "      <td>1507942</td>\n",
       "      <td>1402662</td>\n",
       "    </tr>\n",
       "  </tbody>\n",
       "</table>\n",
       "</div>"
      ],
      "text/plain": [
       "    filename  filesize PNG  filesize JPEG2000  filesize WebP\n",
       "14        14       2140382            1595469        1490900\n",
       "15        15       1945990            1507942        1402662"
      ]
     },
     "execution_count": 84,
     "metadata": {},
     "output_type": "execute_result"
    }
   ],
   "source": [
    "data = [[14, 2140382, 1595469, 1490900], [15, 1945990,1507942,1402662]] \n",
    "filesizes = pd.DataFrame(data, columns = ['filename', 'filesize PNG', 'filesize JPEG2000', 'filesize WebP'])\n",
    "filesizes.index = np.arange(14, len(filesizes) + 14)\n",
    "filesizes"
   ]
  },
  {
   "cell_type": "code",
   "execution_count": 85,
   "metadata": {},
   "outputs": [
    {
     "data": {
      "text/plain": [
       "14    14\n",
       "15    15\n",
       "Name: filename, dtype: int64"
      ]
     },
     "execution_count": 85,
     "metadata": {},
     "output_type": "execute_result"
    },
    {
     "data": {
      "image/png": "[encoded data removed]",
      "text/plain": [
       "<Figure size 432x288 with 1 Axes>"
      ]
     },
     "metadata": {
      "needs_background": "light"
     },
     "output_type": "display_data"
    }
   ],
   "source": [
    "PNG = filesizes[\"filesize PNG\"]\n",
    "JPEG2000 = filesizes[\"filesize JPEG2000\"]\n",
    "WebP = filesizes[\"filesize WebP\"]\n",
    "index = filesizes[\"filename\"]\n",
    "df = pd.DataFrame({'PNG': PNG, 'JPEG2000': JPEG2000, 'WebP': WebP}, index=index)\n",
    "ax = df.plot.bar(rot=0)\n",
    "index"
   ]
  },
  {
   "cell_type": "code",
   "execution_count": null,
   "metadata": {},
   "outputs": [],
   "source": []
  },
  {
   "cell_type": "code",
   "execution_count": null,
   "metadata": {},
   "outputs": [],
   "source": []
  }
 ],
 "metadata": {
  "kernelspec": {
   "display_name": "Python 3",
   "language": "python",
   "name": "python3"
  },
  "language_info": {
   "codemirror_mode": {
    "name": "ipython",
    "version": 3
   },
   "file_extension": ".py",
   "mimetype": "text/x-python",
   "name": "python",
   "nbconvert_exporter": "python",
   "pygments_lexer": "ipython3",
   "version": "3.7.3"
  }
 },
 "nbformat": 4,
 "nbformat_minor": 2
}
