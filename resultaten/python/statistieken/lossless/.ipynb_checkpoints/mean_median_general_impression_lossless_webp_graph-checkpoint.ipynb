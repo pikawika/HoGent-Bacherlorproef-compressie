{
 "cells": [
  {
   "cell_type": "code",
   "execution_count": 15,
   "metadata": {},
   "outputs": [],
   "source": [
    "import pandas as pd\n",
    "import numpy as np\n",
    "merged=pd.read_csv(\"/Users/lennertbontinck/Documents/github/bachelorproef-compressie/resultaten/csv/merged.csv\")\n",
    "merged=merged.loc[merged['extension'] == \"webp\"]\n",
    "merged=merged.loc[merged.filename.isin([14,15])]"
   ]
  },
  {
   "cell_type": "code",
   "execution_count": 16,
   "metadata": {},
   "outputs": [],
   "source": [
    "mean_sharpness = merged.groupby(['filename', 'extension'], sort=False)['sharpness'].mean().to_frame()\n",
    "mean_sharpness = mean_sharpness.rename(columns = {'sharpness':'mean_sharpness'})\n",
    "\n",
    "median_sharpness = merged.groupby(['filename', 'extension'], sort=False)['sharpness'].median().to_frame()\n",
    "median_sharpness = median_sharpness.rename(columns = {'sharpness':'median_sharpness'})\n",
    "\n",
    "mean_color_contrast =  merged.groupby(['filename', 'extension'], sort=False)['color_contrast'].mean().to_frame()\n",
    "mean_color_contrast = mean_color_contrast.rename(columns = {'color_contrast':'mean_color_contrast'})\n",
    "\n",
    "median_color_contrast =  merged.groupby(['filename', 'extension'], sort=False)['color_contrast'].median().to_frame()\n",
    "median_color_contrast = median_color_contrast.rename(columns = {'color_contrast':'median_color_contrast'})\n",
    "\n",
    "mean_general =  merged.groupby(['filename', 'extension'], sort=False)['general'].mean().to_frame()\n",
    "mean_general = mean_general.rename(columns = {'general':'mean_general'})\n",
    "\n",
    "median_general =  merged.groupby(['filename', 'extension'], sort=False)['general'].median().to_frame()\n",
    "median_general = median_general.rename(columns = {'general':'median_general'})"
   ]
  },
  {
   "cell_type": "code",
   "execution_count": 17,
   "metadata": {},
   "outputs": [
    {
     "data": {
      "text/html": [
       "<div>\n",
       "<style scoped>\n",
       "    .dataframe tbody tr th:only-of-type {\n",
       "        vertical-align: middle;\n",
       "    }\n",
       "\n",
       "    .dataframe tbody tr th {\n",
       "        vertical-align: top;\n",
       "    }\n",
       "\n",
       "    .dataframe thead th {\n",
       "        text-align: right;\n",
       "    }\n",
       "</style>\n",
       "<table border=\"1\" class=\"dataframe\">\n",
       "  <thead>\n",
       "    <tr style=\"text-align: right;\">\n",
       "      <th></th>\n",
       "      <th>filename</th>\n",
       "      <th>extension</th>\n",
       "      <th>mean_sharpness</th>\n",
       "      <th>median_sharpness</th>\n",
       "      <th>mean_color_contrast</th>\n",
       "      <th>median_color_contrast</th>\n",
       "      <th>mean_general</th>\n",
       "      <th>median_general</th>\n",
       "    </tr>\n",
       "  </thead>\n",
       "  <tbody>\n",
       "    <tr>\n",
       "      <th>14</th>\n",
       "      <td>14</td>\n",
       "      <td>webp</td>\n",
       "      <td>4.604651</td>\n",
       "      <td>5</td>\n",
       "      <td>4.604651</td>\n",
       "      <td>5</td>\n",
       "      <td>4.767442</td>\n",
       "      <td>5</td>\n",
       "    </tr>\n",
       "    <tr>\n",
       "      <th>15</th>\n",
       "      <td>15</td>\n",
       "      <td>webp</td>\n",
       "      <td>4.534884</td>\n",
       "      <td>5</td>\n",
       "      <td>4.697674</td>\n",
       "      <td>5</td>\n",
       "      <td>4.790698</td>\n",
       "      <td>5</td>\n",
       "    </tr>\n",
       "  </tbody>\n",
       "</table>\n",
       "</div>"
      ],
      "text/plain": [
       "    filename extension  mean_sharpness  median_sharpness  mean_color_contrast  \\\n",
       "14        14      webp        4.604651                 5             4.604651   \n",
       "15        15      webp        4.534884                 5             4.697674   \n",
       "\n",
       "    median_color_contrast  mean_general  median_general  \n",
       "14                      5      4.767442               5  \n",
       "15                      5      4.790698               5  "
      ]
     },
     "execution_count": 17,
     "metadata": {},
     "output_type": "execute_result"
    }
   ],
   "source": [
    "merged_mean_median=mean_sharpness.merge(median_sharpness,on=['filename', 'extension'])\n",
    "merged_mean_median=merged_mean_median.merge(mean_color_contrast,on=['filename', 'extension'])\n",
    "merged_mean_median=merged_mean_median.merge(median_color_contrast,on=['filename', 'extension'])\n",
    "merged_mean_median=merged_mean_median.merge(mean_general,on=['filename', 'extension'])\n",
    "merged_mean_median=merged_mean_median.merge(median_general,on=['filename', 'extension'])\n",
    "merged_mean_median = merged_mean_median.sort_values(by=['filename', 'extension'])\n",
    "merged_mean_median = merged_mean_median.reset_index()\n",
    "merged_mean_median.index = np.arange(14, len(merged_mean_median) + 14)\n",
    "merged_mean_median"
   ]
  },
  {
   "cell_type": "code",
   "execution_count": 18,
   "metadata": {},
   "outputs": [
    {
     "data": {
      "image/png": "[encoded data removed]",
      "text/plain": [
       "<Figure size 432x288 with 1 Axes>"
      ]
     },
     "metadata": {
      "needs_background": "light"
     },
     "output_type": "display_data"
    }
   ],
   "source": [
    "means = merged_mean_median[\"mean_general\"]\n",
    "medians = merged_mean_median[\"median_general\"]\n",
    "index = merged_mean_median[\"filename\"]\n",
    "df = pd.DataFrame({'gemiddelde': means, 'mediaan': medians}, index=index)\n",
    "ax = df.plot.bar(rot=0)"
   ]
  },
  {
   "cell_type": "code",
   "execution_count": null,
   "metadata": {},
   "outputs": [],
   "source": []
  }
 ],
 "metadata": {
  "kernelspec": {
   "display_name": "Python 3",
   "language": "python",
   "name": "python3"
  },
  "language_info": {
   "codemirror_mode": {
    "name": "ipython",
    "version": 3
   },
   "file_extension": ".py",
   "mimetype": "text/x-python",
   "name": "python",
   "nbconvert_exporter": "python",
   "pygments_lexer": "ipython3",
   "version": "3.7.3"
  }
 },
 "nbformat": 4,
 "nbformat_minor": 2
}
